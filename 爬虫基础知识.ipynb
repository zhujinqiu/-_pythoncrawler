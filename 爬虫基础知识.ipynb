{
 "cells": [
  {
   "cell_type": "code",
   "execution_count": 1,
   "metadata": {},
   "outputs": [],
   "source": [
    "import re"
   ]
  },
  {
   "cell_type": "markdown",
   "metadata": {},
   "source": [
    "### 常量"
   ]
  },
  {
   "cell_type": "markdown",
   "metadata": {},
   "source": [
    "### 1.re.IGNORECASE  /re.I"
   ]
  },
  {
   "cell_type": "code",
   "execution_count": 4,
   "metadata": {},
   "outputs": [
    {
     "name": "stdout",
     "output_type": "stream",
     "text": [
      "默认模式: []\n",
      "忽略大小写: ['蛇皮b']\n"
     ]
    }
   ],
   "source": [
    "def regexFlag():\n",
    "    \"\"\"\n",
    "    演示re模块常量的使用\n",
    "    \"\"\"\n",
    "    #1 re .IGNORECASE  \n",
    "    text = \"蛇皮b\"\n",
    "    pattern = r'蛇皮B'\n",
    "    print('默认模式:',re.findall(pattern,text))\n",
    "    print('忽略大小写:',re.findall(pattern,text,re.IGNORECASE))\n",
    "regexFlag()"
   ]
  },
  {
   "cell_type": "markdown",
   "metadata": {},
   "source": [
    "在默认匹配模式下大写字母B无法匹配小写字母b，而在 忽略大小写 模式下是可以的。"
   ]
  },
  {
   "cell_type": "markdown",
   "metadata": {},
   "source": [
    "### 2.re.ASCII /re.A"
   ]
  },
  {
   "cell_type": "markdown",
   "metadata": {},
   "source": [
    "顾名思义，ASCII表示ASCII码的意思，让 \\w, \\W, \\b, \\B, \\d, \\D, \\s 和 \\S 只匹配ASCII，而不是Unicode"
   ]
  },
  {
   "cell_type": "code",
   "execution_count": 5,
   "metadata": {},
   "outputs": [
    {
     "name": "stdout",
     "output_type": "stream",
     "text": [
      "Unicode: ['a蛇b皮c']\n",
      "ASCII: ['a', 'b', 'c']\n"
     ]
    }
   ],
   "source": [
    "def regexFlag():\n",
    "    \"\"\"\n",
    "        演示re模块常量的使用\n",
    "\n",
    "    \"\"\"\n",
    "    #1 re .IGNORECASE  \n",
    "    text = \"a蛇b皮c\"\n",
    "    pattern = r'\\w+'\n",
    "    print('Unicode:',re.findall(pattern,text))\n",
    "    print('ASCII:',re.findall(pattern,text,re.A))\n",
    "regexFlag()"
   ]
  },
  {
   "cell_type": "markdown",
   "metadata": {},
   "source": [
    "在默认匹配模式下\\w+匹配到了所有字符串，而在ASCII模式下，只匹配到了a、b、c（ASCII编码支持的字符）。\n",
    "\n",
    "注意：这只对字符串匹配模式有效，对字节匹配模式无效。"
   ]
  },
  {
   "cell_type": "markdown",
   "metadata": {},
   "source": [
    "### 3，DOTALL /re.S"
   ]
  },
  {
   "cell_type": "markdown",
   "metadata": {},
   "source": [
    "DOT表示.，ALL表示所有，连起来就是.匹配所有，包括换行符\\n。默认模式下.是不能匹配行符\\n的。"
   ]
  },
  {
   "cell_type": "code",
   "execution_count": 8,
   "metadata": {},
   "outputs": [
    {
     "name": "stdout",
     "output_type": "stream",
     "text": [
      "默认: ['a蛇', '', '皮c', '']\n",
      ".匹配所有模式: ['a蛇\\n皮c', '']\n"
     ]
    }
   ],
   "source": [
    "def regexFlag():\n",
    "    \"\"\"\n",
    "        演示re模块常量的使用\n",
    "\n",
    "    \"\"\"\n",
    "    #1 re .IGNORECASE  \n",
    "    text = \"a蛇\\n皮c\"\n",
    "    pattern = r'.*'\n",
    "    print('默认:',re.findall(pattern,text))\n",
    "    print('.匹配所有模式:',re.findall(pattern,text,re.S))\n",
    "regexFlag()"
   ]
  },
  {
   "cell_type": "markdown",
   "metadata": {},
   "source": [
    "在默认匹配模式下.并没有匹配换行符\\n，而是将字符串分开匹配；而在re.DOTALL模式下，换行符\\n与字符串一起被匹配到。"
   ]
  },
  {
   "cell_type": "markdown",
   "metadata": {},
   "source": [
    "### 4.MULTILINE /re.M"
   ]
  },
  {
   "cell_type": "markdown",
   "metadata": {},
   "source": [
    "多行模式，当某字符串中有换行符\\n，默认模式下是不支持换行符特性的，比如：行开头 和 行结尾，而多行模式下是支持匹配行开头的。"
   ]
  },
  {
   "cell_type": "code",
   "execution_count": 12,
   "metadata": {},
   "outputs": [
    {
     "name": "stdout",
     "output_type": "stream",
     "text": [
      "默认: []\n",
      ".多行模式: ['皮']\n"
     ]
    }
   ],
   "source": [
    "def regexFlag():\n",
    "    \"\"\"\n",
    "        演示re模块常量的使用\n",
    "\n",
    "    \"\"\"\n",
    "    #1 re .IGNORECASE  \n",
    "    text = \"蛇\\n皮\"\n",
    "    pattern = r'^皮'\n",
    "    print('默认:',re.findall(pattern,text))\n",
    "    print('.多行模式:',re.findall(pattern,text,re.M))\n",
    "regexFlag()"
   ]
  },
  {
   "cell_type": "markdown",
   "metadata": {},
   "source": [
    "正则表达式中^表示匹配行的开头，默认模式下它只能匹配字符串的开头；而在多行模式下，它还可以匹配 换行符\\n后面的字符。\n",
    "\n",
    "注意：正则语法中^匹配行开头、\\A匹配字符串开头，单行模式下它两效果一致，多行模式下\\A不能识别\\n。"
   ]
  },
  {
   "cell_type": "markdown",
   "metadata": {},
   "source": [
    "### 5  VERBOSE /re.X"
   ]
  },
  {
   "cell_type": "markdown",
   "metadata": {},
   "source": [
    "详细模式，可以在正则表达式中加注解！"
   ]
  },
  {
   "cell_type": "code",
   "execution_count": 18,
   "metadata": {},
   "outputs": [
    {
     "name": "stdout",
     "output_type": "stream",
     "text": [
      "默认模式： []\n",
      "详细模式： ['蛇皮最帅']\n"
     ]
    }
   ],
   "source": [
    "text = '蛇皮最帅'\n",
    "pattern  = r\"\"\"^蛇皮 # 人物 \n",
    "                最帅  #形容词\n",
    "            \"\"\"\n",
    "print('默认模式：',re.findall(pattern,text))\n",
    "print('详细模式：',re.findall(pattern,text,re.X))"
   ]
  },
  {
   "cell_type": "markdown",
   "metadata": {},
   "source": [
    "默认模式下并不能识别正则表达式中的注释，而详细模式是可以识别的。\n",
    "\n",
    "当一个正则表达式十分复杂的时候，详细模式或许能为你提供另一种注释方式，但它不应该成为炫技的手段，建议谨慎考虑后使用！"
   ]
  },
  {
   "cell_type": "markdown",
   "metadata": {},
   "source": [
    "### 6.LOCALE /re.L"
   ]
  },
  {
   "cell_type": "markdown",
   "metadata": {},
   "source": [
    " 由当前语言区域决定 \\w, \\W, \\b, \\B 和大小写敏感匹配，这个标记只能对byte样式有效。这个标记官方已经不推荐使用，因为语言区域机制很不可靠，它一次只能处理一个 \"习惯”，而且只对8位字节有效。"
   ]
  },
  {
   "cell_type": "markdown",
   "metadata": {},
   "source": [
    "### 7 UNICODE /re.U"
   ]
  },
  {
   "cell_type": "markdown",
   "metadata": {},
   "source": [
    " 与 ASCII 模式类似，匹配unicode编码支持的字符，但是 Python 3 默认字符串已经是Unicode，所以有点冗余"
   ]
  },
  {
   "cell_type": "markdown",
   "metadata": {},
   "source": [
    "### 8.DEBUG"
   ]
  },
  {
   "cell_type": "code",
   "execution_count": 21,
   "metadata": {},
   "outputs": [
    {
     "name": "stdout",
     "output_type": "stream",
     "text": [
      "LITERAL 26368\n",
      "LITERAL 24069\n",
      "\n",
      " 0. INFO 10 0b11 2 2 (to 11)\n",
      "      prefix_skip 2\n",
      "      prefix [0x6700, 0x5e05] ('最帅')\n",
      "      overlap [0, 0]\n",
      "11: LITERAL 0x6700 ('最')\n",
      "13. LITERAL 0x5e05 ('帅')\n",
      "15. SUCCESS\n",
      "debug模式: ['最帅']\n"
     ]
    }
   ],
   "source": [
    "text = '蛇皮最帅'\n",
    "pattern  = r'最帅'\n",
    "print('debug模式:',re.findall(pattern,text,re.DEBUG))"
   ]
  },
  {
   "cell_type": "markdown",
   "metadata": {},
   "source": [
    "# TEMPLATE\n",
    "\n",
    "语法： re.TEMPLATE 或简写为 re.T"
   ]
  },
  {
   "cell_type": "markdown",
   "metadata": {},
   "source": [
    "9个常量中，前5个（IGNORECASE、ASCII、DOTALL、MULTILINE、VERBOSE）有用处，两个（LOCALE、UNICODE）官方不建议使用、两个（TEMPLATE、DEBUG）试验性功能，不能依赖。\n",
    "常量在re常用函数中都可以使用，查看源码可得知。"
   ]
  },
  {
   "cell_type": "markdown",
   "metadata": {},
   "source": [
    "常量可叠加使用，因为常量值都是2的幂次方值，所以是可以叠加使用的，叠加时请使用 | 符号，请勿使用+ 符号！"
   ]
  },
  {
   "cell_type": "code",
   "execution_count": 22,
   "metadata": {},
   "outputs": [
    {
     "name": "stdout",
     "output_type": "stream",
     "text": [
      "默认: []\n",
      ".多行模式: ['皮']\n"
     ]
    }
   ],
   "source": [
    "text = \"蛇\\n皮\"\n",
    "pattern = r'^皮'\n",
    "print('默认:',re.findall(pattern,text))\n",
    "print('.多行模式:',re.findall(pattern,text,re.M+re.I))"
   ]
  },
  {
   "cell_type": "markdown",
   "metadata": {},
   "source": [
    "# 三、re模块函数\n",
    "\n",
    "re模块有12个函数，猪哥将以功能分类来讲解；这样更具有比较性，同时也方便记忆。\n"
   ]
  },
  {
   "cell_type": "markdown",
   "metadata": {},
   "source": [
    "## 1.查找一个匹配项\n",
    "\n",
    "查找并返回一个匹配项的函数有3个：search、match\n",
    "fullmatch，他们的区别分别是：\n",
    "\n",
    "\n",
    "\n",
    "search： 查找任意位置的匹配项\n",
    "\n",
    "match： 必须从字符串开头匹配\n",
    "\n",
    "fullmatch： 整个字符串与正则完全匹配\n"
   ]
  },
  {
   "cell_type": "markdown",
   "metadata": {},
   "source": [
    "# 案例1"
   ]
  },
  {
   "cell_type": "code",
   "execution_count": 26,
   "metadata": {},
   "outputs": [
    {
     "name": "stdout",
     "output_type": "stream",
     "text": [
      "search 蛇皮大帅b\n",
      "match: None\n",
      "fullmatch: None\n"
     ]
    }
   ],
   "source": [
    "# import re\n",
    "#1.查找一个匹配项\n",
    "text  = 'a蛇皮大帅b,蛇皮大帅b'\n",
    "pattern = r'蛇皮大帅b'\n",
    "#查找任意位置\n",
    "print('search',re.search(pattern,text).group())\n",
    "#从字符串开头匹配\n",
    "print('match:',re.match(pattern,text))\n",
    "#整个字符串完全匹配\n",
    "print('fullmatch:',re.fullmatch(pattern,text))"
   ]
  },
  {
   "cell_type": "markdown",
   "metadata": {},
   "source": [
    "案例1中search函数是在字符串中任意位置匹配，只要有符合正则表达式的字符串就匹配成功，其实有两个匹配项，但search函数值返回一个。\n",
    "\n",
    "而match函数是要从头开始匹配，而字符串开头多了个字母a，所以无法匹配，fullmatch函数需要完全相同，故也不匹配！"
   ]
  },
  {
   "cell_type": "markdown",
   "metadata": {},
   "source": [
    "### 案例2"
   ]
  },
  {
   "cell_type": "code",
   "execution_count": 28,
   "metadata": {},
   "outputs": [
    {
     "name": "stdout",
     "output_type": "stream",
     "text": [
      "search 蛇皮大帅b\n",
      "match: 蛇皮大帅b\n",
      "fullmatch: None\n"
     ]
    }
   ],
   "source": [
    "#去掉开头字母a\n",
    "text  = '蛇皮大帅b,蛇皮大帅b'\n",
    "pattern = r'蛇皮大帅b'\n",
    "#查找任意位置\n",
    "print('search',re.search(pattern,text).group())\n",
    "#从字符串开头匹配\n",
    "print('match:',re.match(pattern,text).group())\n",
    "#整个字符串完全匹配\n",
    "print('fullmatch:',re.fullmatch(pattern,text))"
   ]
  },
  {
   "cell_type": "markdown",
   "metadata": {},
   "source": [
    "案例2删除了text最开头的字母a，这样match函数就可以匹配啦，而fullmatch函数依然不能完全匹配！"
   ]
  },
  {
   "cell_type": "markdown",
   "metadata": {},
   "source": [
    "### 案例3:"
   ]
  },
  {
   "cell_type": "code",
   "execution_count": 33,
   "metadata": {},
   "outputs": [
    {
     "name": "stdout",
     "output_type": "stream",
     "text": [
      "search 蛇皮大帅b\n",
      "match: 蛇皮大帅b\n",
      "fullmatch: <re.Match object; span=(0, 5), match='蛇皮大帅b'>\n"
     ]
    }
   ],
   "source": [
    "#只留一段\n",
    "#去掉开头字母a\n",
    "text  = '蛇皮大帅b'\n",
    "pattern = r'蛇皮大帅b'\n",
    "#查找任意位置\n",
    "print('search',re.search(pattern,text).group())\n",
    "#从字符串开头匹配\n",
    "print('match:',re.match(pattern,text).group())\n",
    "#整个字符串完全匹配\n",
    "print('fullmatch:',re.fullmatch(pattern,text).group())"
   ]
  },
  {
   "cell_type": "markdown",
   "metadata": {},
   "source": [
    "注意：查找 一个匹配项 返回的都是一个匹配对象（Match）。因此要后缀group"
   ]
  },
  {
   "cell_type": "code",
   "execution_count": 59,
   "metadata": {},
   "outputs": [
    {
     "name": "stdout",
     "output_type": "stream",
     "text": [
      "matchObj.group() :  Cats are smarter than dogs\n",
      "matchObj.group(1) :  Cats\n",
      "matchObj.group(2) :  smarter\n"
     ]
    }
   ],
   "source": [
    "#!/usr/bin/python3\n",
    "import re\n",
    " \n",
    "line = \"Cats are smarter than dogs\"\n",
    "# .* 表示任意匹配除换行符（\\n、\\r）之外的任何单个或多个字符\n",
    "# (.*?) 表示\"非贪婪\"模式，只保存第一个匹配到的子串\n",
    "matchObj = re.match( r'(.*) are (.*?) .*', line, re.M|re.I)\n",
    "#匹配的整个表达式的字符串，group() 可以一次输入多个组号，在这种情况下它将返回一个包含那些组所对应值的元组\n",
    "if matchObj:\n",
    "   print (\"matchObj.group() : \", matchObj.group())\n",
    "   print (\"matchObj.group(1) : \", matchObj.group(1))\n",
    "   print (\"matchObj.group(2) : \", matchObj.group(2))\n",
    "else:\n",
    "   print (\"No match!!\")"
   ]
  },
  {
   "cell_type": "markdown",
   "metadata": {},
   "source": [
    "## 查找多个匹配项"
   ]
  },
  {
   "cell_type": "markdown",
   "metadata": {},
   "source": [
    "讲完查找一项，现在来看看查找多项吧，查找多项函数主要有：findall函数 与 finditer函数：\n",
    "\n",
    "findall： 从字符串任意位置查找，返回一个列表\n",
    "\n",
    "finditer：从字符串任意位置查找，返回一个迭代器\n",
    "\n",
    "\n",
    "两个方法基本类似，只不过一个是返回列表，一个是返回迭代器。我们知道列表是一次性生成在内存中，而迭代器是需要使用时一点一点生成出来的，内存使用更优。"
   ]
  },
  {
   "cell_type": "markdown",
   "metadata": {},
   "source": [
    "### 案例4"
   ]
  },
  {
   "cell_type": "code",
   "execution_count": 34,
   "metadata": {},
   "outputs": [
    {
     "name": "stdout",
     "output_type": "stream",
     "text": [
      "findall: ['蛇皮大帅b', '蛇皮大帅b']\n",
      "finditer: [<re.Match object; span=(0, 5), match='蛇皮大帅b'>, <re.Match object; span=(6, 11), match='蛇皮大帅b'>]\n"
     ]
    }
   ],
   "source": [
    "text  = '蛇皮大帅b,蛇皮大帅b'\n",
    "pattern = r'蛇皮大帅b'\n",
    "#查找所有匹配项，返回一个list\n",
    "print('findall:',re.findall(pattern,text))\n",
    "#查找所有匹配项，返回一个迭代器\n",
    "print('finditer:',list(re.finditer(pattern,text)))"
   ]
  },
  {
   "cell_type": "code",
   "execution_count": 5,
   "metadata": {},
   "outputs": [
    {
     "name": "stdout",
     "output_type": "stream",
     "text": [
      "['123', '456']\n",
      "['123', '456']\n",
      "['88', '12']\n"
     ]
    }
   ],
   "source": [
    "import re\n",
    " \n",
    "result1 = re.findall(r'\\d+','runoob 123 google 456')\n",
    " \n",
    "pattern = re.compile(r'\\d+')   # 查找数字\n",
    "result2 = pattern.findall('runoob 123 google 456')\n",
    "result3 = pattern.findall('run88oob123google456', 0, 10)#开始位置0，结束位置10\n",
    " \n",
    "print(result1)\n",
    "print(result2)\n",
    "print(result3)"
   ]
  },
  {
   "cell_type": "code",
   "execution_count": 6,
   "metadata": {},
   "outputs": [
    {
     "name": "stdout",
     "output_type": "stream",
     "text": [
      "12\n",
      "32\n",
      "43\n",
      "3\n"
     ]
    }
   ],
   "source": [
    "import re\n",
    " \n",
    "it = re.finditer(r\"\\d+\",\"12a32bc43jf3\") \n",
    "for match in it: \n",
    "    print (match.group() )"
   ]
  },
  {
   "cell_type": "markdown",
   "metadata": {},
   "source": [
    "如果可能存在大量的匹配项的话，建议使用finditer函数，一般情况使用findall函数基本没啥影响。"
   ]
  },
  {
   "cell_type": "markdown",
   "metadata": {},
   "source": [
    "## 3 分割"
   ]
  },
  {
   "cell_type": "markdown",
   "metadata": {},
   "source": [
    "re.split(pattern, string, maxsplit=0, flags=0) 函数：用 pattern 分开 string ， maxsplit表示最多进行分割次数， flags表示模式，就是上面我们讲解的常量！"
   ]
  },
  {
   "cell_type": "markdown",
   "metadata": {},
   "source": [
    "### 案例5："
   ]
  },
  {
   "cell_type": "code",
   "execution_count": 37,
   "metadata": {},
   "outputs": [
    {
     "name": "stdout",
     "output_type": "stream",
     "text": [
      "split: ['a蛇皮帅b', 'b蛇皮帅b,c蛇皮刷b']\n"
     ]
    }
   ],
   "source": [
    "text = 'a蛇皮帅b,b蛇皮帅b,c蛇皮刷b'\n",
    "pattern = r','\n",
    "#正则切割\n",
    "print('split:',re.split(pattern,text,maxsplit = 1,flags = re.IGNORECASE))"
   ]
  },
  {
   "cell_type": "markdown",
   "metadata": {},
   "source": [
    "str模块也有一个 split函数 ，那这两个函数该怎么选呢？\n",
    "str.split函数功能简单，不支持正则分割，而re.split支持正则。"
   ]
  },
  {
   "cell_type": "markdown",
   "metadata": {},
   "source": [
    "通过上图对比发现，1000次循环以内str.split函数更快，而循环次数1000次以上后re.split函数明显更快，而且次数越多差距越大！\n",
    "\n",
    "所以结论是：在 不需要正则支持 且 数据量和数次不多 的情况下使用str.split函数更合适，反之则使用re.split函数。\n",
    "\n",
    "注：具体执行时间与测试数据有关！"
   ]
  },
  {
   "cell_type": "code",
   "execution_count": null,
   "metadata": {},
   "outputs": [],
   "source": [
    ">>>import re\n",
    ">>> re.split('\\W+', 'runoob, runoob, runoob.')  #按所有非单词符分割\n",
    "['runoob', 'runoob', 'runoob', '']\n",
    ">>> re.split('(\\W+)', ' runoob, runoob, runoob.') \n",
    "['', ' ', 'runoob', ', ', 'runoob', ', ', 'runoob', '.', '']\n",
    ">>> re.split('\\W+', ' runoob, runoob, runoob.', 1) #只分割一次\n",
    "['', 'runoob, runoob, runoob.']\n",
    " \n",
    ">>> re.split('a*', 'hello world')   # 对于一个找不到匹配的字符串而言，split 不会对其作出分割\n",
    "['hello world']"
   ]
  },
  {
   "cell_type": "markdown",
   "metadata": {},
   "source": [
    "## 4替换"
   ]
  },
  {
   "cell_type": "markdown",
   "metadata": {},
   "source": [
    "替换主要有sub函数 与 subn函数，他们功能类似！\n",
    "\n",
    "先来看看sub函数的用法：\n",
    "\n",
    "re.sub(pattern, repl, string, count=0, flags=0) 函数参数讲解：repl替换掉string中被pattern匹配的字符， count表示最大替换次数，flags表示正则表达式的常量。\n",
    "\n",
    "值得注意的是：sub函数中的入参：repl替换内容既可以是字符串，也可以是一个函数哦！ 如果repl为函数时，只能有一个入参：Match匹配对象。"
   ]
  },
  {
   "cell_type": "markdown",
   "metadata": {},
   "source": [
    "### 案例6 ：替换‘，’为‘、’"
   ]
  },
  {
   "cell_type": "code",
   "execution_count": 39,
   "metadata": {},
   "outputs": [
    {
     "name": "stdout",
     "output_type": "stream",
     "text": [
      "sub_repl为字符串: 1蛇皮帅b、2蛇皮帅b、3蛇皮帅b\n"
     ]
    }
   ],
   "source": [
    "text = '1蛇皮帅b,2蛇皮帅b,3蛇皮帅b'\n",
    "pattern = r','\n",
    "#repl为字符串\n",
    "repl = '、'\n",
    "#替换\n",
    "print('sub_repl为字符串:',re.sub(pattern,repl,text,\n",
    "                            count=2,flags = re.I))\n"
   ]
  },
  {
   "cell_type": "markdown",
   "metadata": {},
   "source": [
    "re.subn(pattern, repl, string, count=0, flags=0) 函数与 re.sub函数 功能一致，只不过返回一个元组 (字符串, 替换次数)。\n",
    "\n"
   ]
  },
  {
   "cell_type": "code",
   "execution_count": 40,
   "metadata": {},
   "outputs": [
    {
     "name": "stdout",
     "output_type": "stream",
     "text": [
      "sub_repl为字符串: ('1蛇皮帅b、2蛇皮帅b、3蛇皮帅b', 2)\n"
     ]
    }
   ],
   "source": [
    "text = '1蛇皮帅b,2蛇皮帅b,3蛇皮帅b'\n",
    "pattern = r','\n",
    "#repl为字符串\n",
    "repl = '、'\n",
    "#替换\n",
    "print('sub_repl为字符串:',re.subn(pattern,repl,text,\n",
    "                            count=2,flags = re.I))\n"
   ]
  },
  {
   "cell_type": "code",
   "execution_count": 60,
   "metadata": {},
   "outputs": [
    {
     "name": "stdout",
     "output_type": "stream",
     "text": [
      "电话号码 :  2004-959-559 \n",
      "电话号码 :  2004959559\n"
     ]
    }
   ],
   "source": [
    "#!/usr/bin/python3\n",
    "import re\n",
    " \n",
    "phone = \"2004-959-559 # 这是一个电话号码\"\n",
    " \n",
    "# 删除注释\n",
    "num = re.sub(r'#.*$', \"\", phone)\n",
    "print (\"电话号码 : \", num)\n",
    " \n",
    "# 移除非数字的内容\n",
    "num = re.sub(r'\\D', \"\", phone)\n",
    "print (\"电话号码 : \", num)"
   ]
  },
  {
   "cell_type": "markdown",
   "metadata": {},
   "source": [
    "## 5编译正则对象"
   ]
  },
  {
   "cell_type": "markdown",
   "metadata": {},
   "source": [
    "compile函数 与 template函数 将正则表达式的样式编译为一个 正则表达式对象 （正则对象Pattern），这个对象与re模块有同样的正则函数（后面我们会讲解Pattern正则对象）。"
   ]
  },
  {
   "cell_type": "markdown",
   "metadata": {},
   "source": [
    "compile 函数用于编译正则表达式，生成一个正则表达式（ Pattern ）对象，供 match() 和 search() 这两个函数使用。\n",
    "\n",
    "语法格式为：\n",
    "\n",
    "re.compile(pattern[, flags])\n",
    "参数：\n",
    "\n",
    "pattern : 一个字符串形式的正则表达式\n",
    "flags 可选，表示匹配模式，比如忽略大小写，多行模式等，具体参数为：\n",
    "\n",
    "re.I 忽略大小写\n",
    "\n",
    "re.L 表示特殊字符集 \\w, \\W, \\b, \\B, \\s, \\S 依赖于当前环境\n",
    "\n",
    "re.M 多行模式\n",
    "\n",
    "re.S 即为' . '并且包括换行符在内的任意字符（' . '不包括换行符）\n",
    "\n",
    "re.U 表示特殊字符集 \\w, \\W, \\b, \\B, \\d, \\D, \\s, \\S 依赖于 Unicode \n",
    "\n",
    "re.X 为了增加可读性，忽略空格和' # '后面的注释"
   ]
  },
  {
   "cell_type": "markdown",
   "metadata": {},
   "source": [
    "### 案例8"
   ]
  },
  {
   "cell_type": "code",
   "execution_count": 43,
   "metadata": {},
   "outputs": [
    {
     "name": "stdout",
     "output_type": "stream",
     "text": [
      "pattern_obj.search: 蛇皮帅b\n"
     ]
    }
   ],
   "source": [
    "text = 'a蛇皮帅b,蛇皮帅b'\n",
    "pattern = r'蛇皮帅b'\n",
    "pattern_obj = re.compile(pattern)\n",
    "#查找任意位置\n",
    "print('pattern_obj.search:',pattern_obj.search(text).group())"
   ]
  },
  {
   "cell_type": "code",
   "execution_count": 2,
   "metadata": {},
   "outputs": [
    {
     "ename": "SyntaxError",
     "evalue": "invalid syntax (<ipython-input-2-ad9fa7a8c437>, line 1)",
     "output_type": "error",
     "traceback": [
      "\u001b[1;36m  File \u001b[1;32m\"<ipython-input-2-ad9fa7a8c437>\"\u001b[1;36m, line \u001b[1;32m1\u001b[0m\n\u001b[1;33m    >>>import re\u001b[0m\n\u001b[1;37m    ^\u001b[0m\n\u001b[1;31mSyntaxError\u001b[0m\u001b[1;31m:\u001b[0m invalid syntax\n"
     ]
    }
   ],
   "source": [
    ">>>import re\n",
    ">>> pattern = re.compile(r'\\d+')                    # 用于匹配至少一个数字\n",
    ">>> m = pattern.match('one12twothree34four')        # 查找头部，没有匹配\n",
    ">>> print( m )\n",
    "None\n",
    ">>> m = pattern.match('one12twothree34four', 2, 10) # 从'e'的位置开始匹配，没有匹配\n",
    ">>> print( m )\n",
    "None\n",
    ">>> m = pattern.match('one12twothree34four', 3, 10) # 从'1'的位置开始匹配，正好匹配\n",
    ">>> print( m )                                        # 返回一个 Match 对象\n",
    "<_sre.SRE_Match object at 0x10a42aac0>\n",
    ">>> m.group(0)   # 可省略 0\n",
    "'12'\n",
    ">>> m.start(0)   # 可省略 0\n",
    "3\n",
    ">>> m.end(0)     # 可省略 0\n",
    "5\n",
    ">>> m.span(0)    # 可省略 0\n",
    "(3, 5)"
   ]
  },
  {
   "cell_type": "markdown",
   "metadata": {},
   "source": [
    "在上面，当匹配成功时返回一个 Match 对象，其中：\n",
    "\n",
    "group([group1, …]) 方法用于获得一个或多个分组匹配的字符串，当要获得整个匹配的子串时，可直接使用 group() 或 group(0)；\n",
    "\n",
    "start([group]) 方法用于获取分组匹配的子串在整个字符串中的起始位置（子串第一个字符的索引），参数默认值为 0\n",
    "\n",
    "end([group]) 方法用于获取分组匹配的子串在整个字符串中的结束位置（子串最后一个字符的索引+1），参数默认值为 0\n",
    "\n",
    "span([group]) 方法返回 (start(group), end(group))。"
   ]
  },
  {
   "cell_type": "code",
   "execution_count": null,
   "metadata": {},
   "outputs": [],
   "source": [
    ">>>import re\n",
    ">>> pattern = re.compile(r'([a-z]+) ([a-z]+)', re.I)   # re.I 表示忽略大小写，匹配配2个至少一个字母的单词\n",
    ">>> m = pattern.match('Hello World Wide Web')\n",
    ">>> print( m )                            # 匹配成功，返回一个 Match 对象\n",
    "<_sre.SRE_Match object at 0x10bea83e8>\n",
    ">>> m.group(0)                            # 返回匹配成功的整个子串\n",
    "'Hello World'\n",
    ">>> m.span(0)                             # 返回匹配成功的整个子串的索引\n",
    "(0, 11)\n",
    ">>> m.group(1)                            # 返回第一个分组匹配成功的子串\n",
    "'Hello'\n",
    ">>> m.span(1)                             # 返回第一个分组匹配成功的子串的索引\n",
    "(0, 5)\n",
    ">>> m.group(2)                            # 返回第二个分组匹配成功的子串\n",
    "'World'\n",
    ">>> m.span(2)                             # 返回第二个分组匹配成功的子串索引\n",
    "(6, 11)\n",
    ">>> m.groups()                            # 等价于 (m.group(1), m.group(2), ...)\n",
    "('Hello', 'World')\n",
    ">>> m.group(3)                            # 不存在第三个分组\n",
    "Traceback (most recent call last):\n",
    "  File \"<stdin>\", line 1, in <module>\n",
    "IndexError: no such group"
   ]
  },
  {
   "cell_type": "markdown",
   "metadata": {},
   "source": [
    "## 6其他"
   ]
  },
  {
   "cell_type": "markdown",
   "metadata": {},
   "source": [
    "re.escape(pattern) 可以转义正则表达式中具有特殊含义的字符，比如：. 或者 * ，举个实际的案例："
   ]
  },
  {
   "cell_type": "markdown",
   "metadata": {},
   "source": [
    "### 案例9"
   ]
  },
  {
   "cell_type": "code",
   "execution_count": 44,
   "metadata": {},
   "outputs": [
    {
     "name": "stdout",
     "output_type": "stream",
     "text": [
      "search: <re.Match object; span=(0, 7), match='蛇皮.真他*帅'>\n"
     ]
    }
   ],
   "source": [
    "text = '蛇皮.真他*帅'\n",
    "pattern = r'蛇皮\\.真他\\*帅'\n",
    "#查找任意位置\n",
    "print('search:',re.search(pattern,text))"
   ]
  },
  {
   "cell_type": "markdown",
   "metadata": {},
   "source": [
    "### 案例10"
   ]
  },
  {
   "cell_type": "code",
   "execution_count": 46,
   "metadata": {},
   "outputs": [
    {
     "name": "stdout",
     "output_type": "stream",
     "text": [
      "转义后的正则: 蛇皮\\.真他\\*帅\n",
      "search: <re.Match object; span=(0, 7), match='蛇皮.真他*帅'>\n"
     ]
    }
   ],
   "source": [
    "text = '蛇皮.真他*帅'\n",
    "pattern = re.escape('蛇皮.真他*帅')\n",
    "#查找任意位置\n",
    "print('转义后的正则:',pattern)\n",
    "print('search:',re.search(pattern,text))"
   ]
  },
  {
   "cell_type": "markdown",
   "metadata": {},
   "source": [
    "re.escape(pattern) 看似非常好用省去了我们自己加转义，但是使用它很容易出现转义错误的问题，所以并不建议使用它转义，而建议大家自己手动转义！"
   ]
  },
  {
   "cell_type": "markdown",
   "metadata": {},
   "source": [
    "re.purge() 函数作用就是清除 正则表达式缓存，具体有什么缓存呢？我们来看看源码就知道它背地里干了 什么："
   ]
  },
  {
   "cell_type": "code",
   "execution_count": null,
   "metadata": {},
   "outputs": [],
   "source": []
  }
 ],
 "metadata": {
  "kernelspec": {
   "display_name": "Python 3",
   "language": "python",
   "name": "python3"
  },
  "language_info": {
   "codemirror_mode": {
    "name": "ipython",
    "version": 3
   },
   "file_extension": ".py",
   "mimetype": "text/x-python",
   "name": "python",
   "nbconvert_exporter": "python",
   "pygments_lexer": "ipython3",
   "version": "3.8.3"
  }
 },
 "nbformat": 4,
 "nbformat_minor": 4
}
